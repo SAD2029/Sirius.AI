{
  "cells": [
    {
      "cell_type": "code",
      "execution_count": 111,
      "metadata": {
        "colab": {
          "base_uri": "https://localhost:8080/"
        },
        "id": "LFOKvYAveYNb",
        "outputId": "e458db2f-51dd-40f4-d141-41530f84d4d5"
      },
      "outputs": [
        {
          "output_type": "stream",
          "name": "stdout",
          "text": [
            "Drive already mounted at /content/drive; to attempt to forcibly remount, call drive.mount(\"/content/drive\", force_remount=True).\n"
          ]
        }
      ],
      "source": [
        "from google.colab import drive\n",
        "drive.mount('/content/drive')"
      ]
    },
    {
      "cell_type": "code",
      "execution_count": 112,
      "metadata": {
        "id": "Az4DjscTh_NO"
      },
      "outputs": [],
      "source": [
        "pip install cython pillow>=7.0.0 numpy>=1.18.1 opencv-python>=4.1.2 torch>=1.9.0 --extra-index-url https://download.pytorch.org/whl/cpu torchvision>=0.10.0 --extra-index-url https://download.pytorch.org/whl/cpu pytest==7.1.3 tqdm==4.64.1 scipy>=1.7.3 matplotlib>=3.4.3 mock==4.0.3"
      ]
    },
    {
      "cell_type": "code",
      "execution_count": 113,
      "metadata": {
        "colab": {
          "base_uri": "https://localhost:8080/"
        },
        "id": "0uMyqKizkJZ3",
        "outputId": "70087229-f1ad-4d98-c0a1-65a714dd8e6b"
      },
      "outputs": [
        {
          "output_type": "stream",
          "name": "stdout",
          "text": [
            "Requirement already satisfied: imageai in /usr/local/lib/python3.10/dist-packages (3.0.3)\n"
          ]
        }
      ],
      "source": [
        "pip install imageai"
      ]
    },
    {
      "cell_type": "code",
      "execution_count": 129,
      "metadata": {
        "id": "pVDo_QtVkX_Q"
      },
      "outputs": [],
      "source": [
        "import random\n",
        "from imutils.video import VideoStream\n",
        "from imutils.video import FPS\n",
        "import cv2\n",
        "from matplotlib import pyplot as plt\n",
        "import numpy as np\n",
        "import imutils\n",
        "import time\n",
        "from imageai.Detection import ObjectDetection\n",
        "from google.colab.patches import cv2_imshow\n",
        "from IPython.display import HTML\n",
        "from base64 import b64encode"
      ]
    },
    {
      "cell_type": "code",
      "execution_count": 118,
      "metadata": {
        "id": "92yJr9u-k-rg"
      },
      "outputs": [],
      "source": [
        "detector = ObjectDetection()\n",
        "detector.setModelTypeAsYOLOv3()\n",
        "detector.setModelPath(\"/content/drive/MyDrive/yolov3.pt\")\n",
        "detector.loadModel()\n",
        "custom = detector.CustomObjects(person=True)"
      ]
    },
    {
      "cell_type": "code",
      "execution_count": 119,
      "metadata": {
        "id": "jg-0iOQqmdRQ"
      },
      "outputs": [],
      "source": [
        "video_capture = cv2.VideoCapture(\"video\")\n",
        "fourcc = cv2.VideoWriter_fourcc(*'XVID')\n",
        "width = int(video_capture.get(cv2.CAP_PROP_FRAME_WIDTH))\n",
        "height = int(video_capture.get(cv2.CAP_PROP_FRAME_HEIGHT))\n",
        "out = cv2.VideoWriter('output.mp4', fourcc, 20.0, (width, height))"
      ]
    },
    {
      "cell_type": "code",
      "execution_count": 120,
      "metadata": {
        "id": "YabNz3lnlVPI"
      },
      "outputs": [],
      "source": [
        "while video_capture.isOpened():\n",
        "  ret, frame = video_capture.read()\n",
        "  detections = detector.detectObjectsFromImage(input_image=frame, output_image_path=\"imagenew.jpg\")\n",
        "  img = cv2.imread(\"imagenew.jpg\")\n",
        "  out.write(img)"
      ]
    },
    {
      "cell_type": "code",
      "source": [
        "out.release()"
      ],
      "metadata": {
        "id": "_yrijOu6677c"
      },
      "execution_count": 105,
      "outputs": []
    },
    {
      "cell_type": "code",
      "source": [
        "#Предпологается, что всего одна очередь\n",
        "print(\"Всего людей в очереди:\", len(detections))\n",
        "print(\"Время ожидания в очереди:\", int(len(detections) * 1.5), \"минут(ы)\")"
      ],
      "metadata": {
        "colab": {
          "base_uri": "https://localhost:8080/"
        },
        "id": "hoM_7OXNey63",
        "outputId": "ad185e40-f75c-4229-9007-7a61f66a337f"
      },
      "execution_count": 173,
      "outputs": [
        {
          "output_type": "stream",
          "name": "stdout",
          "text": [
            "Всего людей в очереди: 4\n",
            "Время ожидания в очереди: 6 минут(ы)\n"
          ]
        }
      ]
    }
  ],
  "metadata": {
    "colab": {
      "provenance": []
    },
    "kernelspec": {
      "display_name": "Python 3",
      "name": "python3"
    },
    "language_info": {
      "name": "python"
    }
  },
  "nbformat": 4,
  "nbformat_minor": 0
}